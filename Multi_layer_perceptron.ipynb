{
 "cells": [
  {
   "cell_type": "markdown",
   "metadata": {},
   "source": [
    "<h1>Deep Learning With Keras</h1>"
   ]
  },
  {
   "cell_type": "code",
   "execution_count": 37,
   "metadata": {},
   "outputs": [],
   "source": [
    "import numpy as np\n",
    "import scipy as scipy\n",
    "import matplotlib.pyplot as plt\n",
    "from keras.models import Sequential\n",
    "from keras.layers.core import Dense, Activation, Dropout\n",
    "from keras.optimizers import SGD, RMSprop, Adam\n",
    "from keras.utils import np_utils\n",
    "from keras.models import model_from_json, model_from_yaml, load_model, save_model\n",
    "from keras.callbacks import EarlyStopping, ModelCheckpoint, TensorBoard\n",
    "%matplotlib inline"
   ]
  },
  {
   "cell_type": "markdown",
   "metadata": {},
   "source": [
    "<h2>Chapter 1</h2>"
   ]
  },
  {
   "cell_type": "markdown",
   "metadata": {},
   "source": [
    "Loading the data"
   ]
  },
  {
   "cell_type": "code",
   "execution_count": 8,
   "metadata": {},
   "outputs": [
    {
     "name": "stdout",
     "output_type": "stream",
     "text": [
      "X_train/test shape: (60000, 28, 28)\t(10000, 28, 28)\n",
      "Y_train/test shape: (60000,)\t(10000,)\n"
     ]
    }
   ],
   "source": [
    "np.random.seed(1671)\n",
    "data = np.load(\"/media/anthony/POULOP/DL/mnist.npz\")\n",
    "X_train, X_test = data[\"x_train\"], data[\"x_test\"]\n",
    "Y_train, Y_test = data[\"y_train\"], data[\"y_test\"]\n",
    "print(\"X_train/test shape: {}\\t{}\".format(X_train.shape, X_test.shape))\n",
    "print(\"Y_train/test shape: {}\\t{}\".format(Y_train.shape, Y_test.shape))\n",
    "Y_train, Y_test = np_utils.to_categorical(Y_train, 10), np_utils.to_categorical(Y_test, 10)"
   ]
  },
  {
   "cell_type": "markdown",
   "metadata": {},
   "source": [
    "Reshaping the data"
   ]
  },
  {
   "cell_type": "code",
   "execution_count": 9,
   "metadata": {},
   "outputs": [
    {
     "name": "stdout",
     "output_type": "stream",
     "text": [
      "X_train/test shape: (60000, 784)\t(10000, 784)\n"
     ]
    }
   ],
   "source": [
    "X_train, X_test = X_train.reshape(60000, 784), X_test.reshape(10000, 784)\n",
    "print(\"X_train/test shape: {}\\t{}\".format(X_train.shape, X_test.shape))"
   ]
  },
  {
   "cell_type": "markdown",
   "metadata": {},
   "source": [
    "Rescaling the data"
   ]
  },
  {
   "cell_type": "code",
   "execution_count": 10,
   "metadata": {},
   "outputs": [],
   "source": [
    "X_train, X_test = X_train/255, X_test/255"
   ]
  },
  {
   "cell_type": "markdown",
   "metadata": {},
   "source": [
    "<h3>1) Simple layer model</h3>"
   ]
  },
  {
   "cell_type": "markdown",
   "metadata": {},
   "source": [
    "Building the model"
   ]
  },
  {
   "cell_type": "code",
   "execution_count": 58,
   "metadata": {},
   "outputs": [
    {
     "name": "stdout",
     "output_type": "stream",
     "text": [
      "Model: \"sequential_6\"\n",
      "_________________________________________________________________\n",
      "Layer (type)                 Output Shape              Param #   \n",
      "=================================================================\n",
      "dense_3 (Dense)              (None, 10)                7850      \n",
      "_________________________________________________________________\n",
      "activation_2 (Activation)    (None, 10)                0         \n",
      "=================================================================\n",
      "Total params: 7,850\n",
      "Trainable params: 7,850\n",
      "Non-trainable params: 0\n",
      "_________________________________________________________________\n"
     ]
    }
   ],
   "source": [
    "model = Sequential()\n",
    "model.add(Dense(units=10, input_shape=(784,)))\n",
    "model.add(Activation(\"softmax\"))\n",
    "model.summary()"
   ]
  },
  {
   "cell_type": "markdown",
   "metadata": {},
   "source": [
    "Compiling the model"
   ]
  },
  {
   "cell_type": "code",
   "execution_count": 64,
   "metadata": {},
   "outputs": [],
   "source": [
    "OPTIM = RMSprop()\n",
    "model.compile(optimizer=OPTIM, loss=\"categorical_crossentropy\", metrics=['accuracy'])"
   ]
  },
  {
   "cell_type": "markdown",
   "metadata": {},
   "source": [
    "Fitting the model"
   ]
  },
  {
   "cell_type": "code",
   "execution_count": 66,
   "metadata": {
    "collapsed": true,
    "jupyter": {
     "outputs_hidden": true
    }
   },
   "outputs": [
    {
     "name": "stdout",
     "output_type": "stream",
     "text": [
      "Epoch 1/100\n",
      "375/375 [==============================] - 1s 3ms/step - loss: 0.3227 - accuracy: 0.9104 - val_loss: 0.3086 - val_accuracy: 0.9145\n",
      "Epoch 2/100\n",
      "375/375 [==============================] - 1s 3ms/step - loss: 0.3218 - accuracy: 0.9106 - val_loss: 0.3078 - val_accuracy: 0.9143\n",
      "Epoch 3/100\n",
      "375/375 [==============================] - 1s 3ms/step - loss: 0.3210 - accuracy: 0.9107 - val_loss: 0.3072 - val_accuracy: 0.9147\n",
      "Epoch 4/100\n",
      "375/375 [==============================] - 1s 3ms/step - loss: 0.3201 - accuracy: 0.9112 - val_loss: 0.3066 - val_accuracy: 0.9147\n",
      "Epoch 5/100\n",
      "375/375 [==============================] - 1s 4ms/step - loss: 0.3192 - accuracy: 0.9112 - val_loss: 0.3059 - val_accuracy: 0.9154\n",
      "Epoch 6/100\n",
      "375/375 [==============================] - 1s 3ms/step - loss: 0.3185 - accuracy: 0.9117 - val_loss: 0.3053 - val_accuracy: 0.9148\n",
      "Epoch 7/100\n",
      "375/375 [==============================] - 1s 3ms/step - loss: 0.3177 - accuracy: 0.9115 - val_loss: 0.3046 - val_accuracy: 0.9149\n",
      "Epoch 8/100\n",
      "375/375 [==============================] - 1s 3ms/step - loss: 0.3169 - accuracy: 0.9120 - val_loss: 0.3040 - val_accuracy: 0.9155\n",
      "Epoch 9/100\n",
      "375/375 [==============================] - 1s 3ms/step - loss: 0.3162 - accuracy: 0.9121 - val_loss: 0.3036 - val_accuracy: 0.9165\n",
      "Epoch 10/100\n",
      "375/375 [==============================] - 1s 3ms/step - loss: 0.3155 - accuracy: 0.9122 - val_loss: 0.3029 - val_accuracy: 0.9156\n",
      "Epoch 11/100\n",
      "375/375 [==============================] - 1s 4ms/step - loss: 0.3148 - accuracy: 0.9129 - val_loss: 0.3024 - val_accuracy: 0.9153\n",
      "Epoch 12/100\n",
      "375/375 [==============================] - 1s 3ms/step - loss: 0.3141 - accuracy: 0.9127 - val_loss: 0.3018 - val_accuracy: 0.9158\n",
      "Epoch 13/100\n",
      "375/375 [==============================] - 1s 3ms/step - loss: 0.3134 - accuracy: 0.9130 - val_loss: 0.3013 - val_accuracy: 0.9160\n",
      "Epoch 14/100\n",
      "375/375 [==============================] - 1s 3ms/step - loss: 0.3128 - accuracy: 0.9133 - val_loss: 0.3008 - val_accuracy: 0.9161\n",
      "Epoch 15/100\n",
      "375/375 [==============================] - 1s 3ms/step - loss: 0.3121 - accuracy: 0.9133 - val_loss: 0.3004 - val_accuracy: 0.9166\n",
      "Epoch 16/100\n",
      "375/375 [==============================] - 1s 3ms/step - loss: 0.3115 - accuracy: 0.9134 - val_loss: 0.2999 - val_accuracy: 0.9165\n",
      "Epoch 17/100\n",
      "375/375 [==============================] - 1s 3ms/step - loss: 0.3109 - accuracy: 0.9133 - val_loss: 0.2994 - val_accuracy: 0.9170\n",
      "Epoch 18/100\n",
      "375/375 [==============================] - 1s 3ms/step - loss: 0.3103 - accuracy: 0.9143 - val_loss: 0.2989 - val_accuracy: 0.9165\n",
      "Epoch 19/100\n",
      "375/375 [==============================] - 1s 3ms/step - loss: 0.3097 - accuracy: 0.9141 - val_loss: 0.2984 - val_accuracy: 0.9169\n",
      "Epoch 20/100\n",
      "375/375 [==============================] - 1s 3ms/step - loss: 0.3092 - accuracy: 0.9140 - val_loss: 0.2980 - val_accuracy: 0.9171\n",
      "Epoch 21/100\n",
      "375/375 [==============================] - 1s 3ms/step - loss: 0.3086 - accuracy: 0.9144 - val_loss: 0.2976 - val_accuracy: 0.9170\n",
      "Epoch 22/100\n",
      "375/375 [==============================] - 1s 3ms/step - loss: 0.3080 - accuracy: 0.9147 - val_loss: 0.2972 - val_accuracy: 0.9177\n",
      "Epoch 23/100\n",
      "375/375 [==============================] - 1s 3ms/step - loss: 0.3075 - accuracy: 0.9149 - val_loss: 0.2969 - val_accuracy: 0.9178\n",
      "Epoch 24/100\n",
      "375/375 [==============================] - 1s 3ms/step - loss: 0.3070 - accuracy: 0.9147 - val_loss: 0.2964 - val_accuracy: 0.9178\n",
      "Epoch 25/100\n",
      "375/375 [==============================] - 1s 3ms/step - loss: 0.3065 - accuracy: 0.9151 - val_loss: 0.2960 - val_accuracy: 0.9182\n",
      "Epoch 26/100\n",
      "375/375 [==============================] - 1s 3ms/step - loss: 0.3060 - accuracy: 0.9152 - val_loss: 0.2956 - val_accuracy: 0.9182\n",
      "Epoch 27/100\n",
      "375/375 [==============================] - 1s 3ms/step - loss: 0.3055 - accuracy: 0.9156 - val_loss: 0.2953 - val_accuracy: 0.9183\n",
      "Epoch 28/100\n",
      "375/375 [==============================] - 1s 3ms/step - loss: 0.3049 - accuracy: 0.9153 - val_loss: 0.2949 - val_accuracy: 0.9178\n",
      "Epoch 29/100\n",
      "375/375 [==============================] - 1s 4ms/step - loss: 0.3045 - accuracy: 0.9155 - val_loss: 0.2946 - val_accuracy: 0.9182\n",
      "Epoch 30/100\n",
      "375/375 [==============================] - 1s 4ms/step - loss: 0.3041 - accuracy: 0.9154 - val_loss: 0.2943 - val_accuracy: 0.9179\n",
      "Epoch 31/100\n",
      "375/375 [==============================] - 1s 4ms/step - loss: 0.3036 - accuracy: 0.9159 - val_loss: 0.2939 - val_accuracy: 0.9180\n",
      "Epoch 32/100\n",
      "375/375 [==============================] - 1s 3ms/step - loss: 0.3032 - accuracy: 0.9159 - val_loss: 0.2936 - val_accuracy: 0.9183\n",
      "Epoch 33/100\n",
      "375/375 [==============================] - 1s 3ms/step - loss: 0.3027 - accuracy: 0.9159 - val_loss: 0.2932 - val_accuracy: 0.9182\n",
      "Epoch 34/100\n",
      "375/375 [==============================] - 1s 4ms/step - loss: 0.3023 - accuracy: 0.9160 - val_loss: 0.2928 - val_accuracy: 0.9180\n",
      "Epoch 35/100\n",
      "375/375 [==============================] - 2s 4ms/step - loss: 0.3019 - accuracy: 0.9162 - val_loss: 0.2926 - val_accuracy: 0.9187\n",
      "Epoch 36/100\n",
      "375/375 [==============================] - 1s 3ms/step - loss: 0.3015 - accuracy: 0.9165 - val_loss: 0.2924 - val_accuracy: 0.9185\n",
      "Epoch 37/100\n",
      "375/375 [==============================] - 1s 3ms/step - loss: 0.3010 - accuracy: 0.9164 - val_loss: 0.2920 - val_accuracy: 0.9187\n",
      "Epoch 38/100\n",
      "375/375 [==============================] - 1s 3ms/step - loss: 0.3006 - accuracy: 0.9166 - val_loss: 0.2919 - val_accuracy: 0.9190\n",
      "Epoch 39/100\n",
      "375/375 [==============================] - 1s 3ms/step - loss: 0.3003 - accuracy: 0.9165 - val_loss: 0.2914 - val_accuracy: 0.9189\n",
      "Epoch 40/100\n",
      "375/375 [==============================] - 1s 3ms/step - loss: 0.2998 - accuracy: 0.9166 - val_loss: 0.2912 - val_accuracy: 0.9192\n",
      "Epoch 41/100\n",
      "375/375 [==============================] - 1s 3ms/step - loss: 0.2995 - accuracy: 0.9170 - val_loss: 0.2909 - val_accuracy: 0.9195\n",
      "Epoch 42/100\n",
      "375/375 [==============================] - 1s 3ms/step - loss: 0.2991 - accuracy: 0.9166 - val_loss: 0.2906 - val_accuracy: 0.9194\n",
      "Epoch 43/100\n",
      "375/375 [==============================] - 1s 4ms/step - loss: 0.2987 - accuracy: 0.9170 - val_loss: 0.2904 - val_accuracy: 0.9192\n",
      "Epoch 44/100\n",
      "375/375 [==============================] - 1s 3ms/step - loss: 0.2984 - accuracy: 0.9170 - val_loss: 0.2901 - val_accuracy: 0.9197\n",
      "Epoch 45/100\n",
      "375/375 [==============================] - 1s 3ms/step - loss: 0.2980 - accuracy: 0.9170 - val_loss: 0.2898 - val_accuracy: 0.9197\n",
      "Epoch 46/100\n",
      "375/375 [==============================] - 2s 4ms/step - loss: 0.2976 - accuracy: 0.9172 - val_loss: 0.2895 - val_accuracy: 0.9197\n",
      "Epoch 47/100\n",
      "375/375 [==============================] - 1s 4ms/step - loss: 0.2973 - accuracy: 0.9172 - val_loss: 0.2893 - val_accuracy: 0.9197\n",
      "Epoch 48/100\n",
      "375/375 [==============================] - 1s 4ms/step - loss: 0.2969 - accuracy: 0.9170 - val_loss: 0.2891 - val_accuracy: 0.9197\n",
      "Epoch 49/100\n",
      "375/375 [==============================] - 1s 4ms/step - loss: 0.2966 - accuracy: 0.9174 - val_loss: 0.2888 - val_accuracy: 0.9197\n",
      "Epoch 50/100\n",
      "375/375 [==============================] - 1s 3ms/step - loss: 0.2963 - accuracy: 0.9173 - val_loss: 0.2886 - val_accuracy: 0.9201\n",
      "Epoch 51/100\n",
      "375/375 [==============================] - 1s 3ms/step - loss: 0.2959 - accuracy: 0.9178 - val_loss: 0.2883 - val_accuracy: 0.9203\n",
      "Epoch 52/100\n",
      "375/375 [==============================] - 1s 3ms/step - loss: 0.2956 - accuracy: 0.9174 - val_loss: 0.2882 - val_accuracy: 0.9198\n",
      "Epoch 53/100\n",
      "375/375 [==============================] - 1s 3ms/step - loss: 0.2953 - accuracy: 0.9178 - val_loss: 0.2879 - val_accuracy: 0.9205\n",
      "Epoch 54/100\n",
      "375/375 [==============================] - 1s 3ms/step - loss: 0.2950 - accuracy: 0.9178 - val_loss: 0.2877 - val_accuracy: 0.9202\n",
      "Epoch 55/100\n",
      "375/375 [==============================] - 1s 3ms/step - loss: 0.2947 - accuracy: 0.9179 - val_loss: 0.2874 - val_accuracy: 0.9206\n",
      "Epoch 56/100\n",
      "375/375 [==============================] - 1s 3ms/step - loss: 0.2944 - accuracy: 0.9182 - val_loss: 0.2873 - val_accuracy: 0.9202\n",
      "Epoch 57/100\n",
      "375/375 [==============================] - 1s 3ms/step - loss: 0.2941 - accuracy: 0.9179 - val_loss: 0.2871 - val_accuracy: 0.9202\n",
      "Epoch 58/100\n",
      "375/375 [==============================] - 1s 3ms/step - loss: 0.2938 - accuracy: 0.9181 - val_loss: 0.2868 - val_accuracy: 0.9206\n",
      "Epoch 59/100\n",
      "375/375 [==============================] - 1s 3ms/step - loss: 0.2935 - accuracy: 0.9179 - val_loss: 0.2866 - val_accuracy: 0.9204\n",
      "Epoch 60/100\n",
      "375/375 [==============================] - 1s 3ms/step - loss: 0.2932 - accuracy: 0.9182 - val_loss: 0.2864 - val_accuracy: 0.9208\n",
      "Epoch 61/100\n",
      "375/375 [==============================] - 1s 3ms/step - loss: 0.2929 - accuracy: 0.9184 - val_loss: 0.2862 - val_accuracy: 0.9205\n",
      "Epoch 62/100\n",
      "375/375 [==============================] - 1s 3ms/step - loss: 0.2926 - accuracy: 0.9184 - val_loss: 0.2860 - val_accuracy: 0.9205\n",
      "Epoch 63/100\n",
      "375/375 [==============================] - 1s 3ms/step - loss: 0.2923 - accuracy: 0.9188 - val_loss: 0.2858 - val_accuracy: 0.9204\n",
      "Epoch 64/100\n",
      "375/375 [==============================] - 1s 3ms/step - loss: 0.2921 - accuracy: 0.9186 - val_loss: 0.2856 - val_accuracy: 0.9213\n",
      "Epoch 65/100\n",
      "375/375 [==============================] - 1s 3ms/step - loss: 0.2918 - accuracy: 0.9186 - val_loss: 0.2855 - val_accuracy: 0.9208\n",
      "Epoch 66/100\n",
      "375/375 [==============================] - 1s 3ms/step - loss: 0.2915 - accuracy: 0.9188 - val_loss: 0.2853 - val_accuracy: 0.9208\n",
      "Epoch 67/100\n",
      "375/375 [==============================] - 1s 3ms/step - loss: 0.2913 - accuracy: 0.9186 - val_loss: 0.2851 - val_accuracy: 0.9208\n",
      "Epoch 68/100\n",
      "375/375 [==============================] - 1s 3ms/step - loss: 0.2910 - accuracy: 0.9187 - val_loss: 0.2849 - val_accuracy: 0.9209\n",
      "Epoch 69/100\n",
      "375/375 [==============================] - 1s 3ms/step - loss: 0.2907 - accuracy: 0.9190 - val_loss: 0.2847 - val_accuracy: 0.9210\n",
      "Epoch 70/100\n",
      "375/375 [==============================] - 1s 3ms/step - loss: 0.2905 - accuracy: 0.9188 - val_loss: 0.2845 - val_accuracy: 0.9211\n",
      "Epoch 71/100\n",
      "375/375 [==============================] - 1s 3ms/step - loss: 0.2902 - accuracy: 0.9187 - val_loss: 0.2844 - val_accuracy: 0.9214\n",
      "Epoch 72/100\n",
      "375/375 [==============================] - 1s 3ms/step - loss: 0.2900 - accuracy: 0.9188 - val_loss: 0.2842 - val_accuracy: 0.9215\n",
      "Epoch 73/100\n",
      "375/375 [==============================] - 1s 3ms/step - loss: 0.2897 - accuracy: 0.9193 - val_loss: 0.2841 - val_accuracy: 0.9208\n",
      "Epoch 74/100\n",
      "375/375 [==============================] - 1s 3ms/step - loss: 0.2895 - accuracy: 0.9192 - val_loss: 0.2838 - val_accuracy: 0.9214\n",
      "Epoch 75/100\n",
      "375/375 [==============================] - 1s 3ms/step - loss: 0.2893 - accuracy: 0.9191 - val_loss: 0.2837 - val_accuracy: 0.9213\n",
      "Epoch 76/100\n",
      "375/375 [==============================] - 1s 3ms/step - loss: 0.2890 - accuracy: 0.9189 - val_loss: 0.2835 - val_accuracy: 0.9218\n",
      "Epoch 77/100\n",
      "375/375 [==============================] - 1s 3ms/step - loss: 0.2888 - accuracy: 0.9194 - val_loss: 0.2834 - val_accuracy: 0.9215\n",
      "Epoch 78/100\n",
      "375/375 [==============================] - 1s 3ms/step - loss: 0.2885 - accuracy: 0.9192 - val_loss: 0.2832 - val_accuracy: 0.9209\n",
      "Epoch 79/100\n",
      "375/375 [==============================] - 1s 3ms/step - loss: 0.2883 - accuracy: 0.9193 - val_loss: 0.2831 - val_accuracy: 0.9215\n",
      "Epoch 80/100\n",
      "375/375 [==============================] - 1s 3ms/step - loss: 0.2881 - accuracy: 0.9196 - val_loss: 0.2830 - val_accuracy: 0.9218\n",
      "Epoch 81/100\n",
      "375/375 [==============================] - 1s 3ms/step - loss: 0.2878 - accuracy: 0.9197 - val_loss: 0.2829 - val_accuracy: 0.9217\n",
      "Epoch 82/100\n",
      "375/375 [==============================] - 1s 3ms/step - loss: 0.2877 - accuracy: 0.9194 - val_loss: 0.2826 - val_accuracy: 0.9221\n",
      "Epoch 83/100\n",
      "375/375 [==============================] - 1s 3ms/step - loss: 0.2874 - accuracy: 0.9198 - val_loss: 0.2825 - val_accuracy: 0.9218\n",
      "Epoch 84/100\n",
      "375/375 [==============================] - 1s 3ms/step - loss: 0.2872 - accuracy: 0.9196 - val_loss: 0.2823 - val_accuracy: 0.9215\n",
      "Epoch 85/100\n",
      "375/375 [==============================] - 1s 3ms/step - loss: 0.2870 - accuracy: 0.9195 - val_loss: 0.2822 - val_accuracy: 0.9222\n",
      "Epoch 86/100\n",
      "375/375 [==============================] - 1s 3ms/step - loss: 0.2868 - accuracy: 0.9198 - val_loss: 0.2821 - val_accuracy: 0.9222\n",
      "Epoch 87/100\n",
      "375/375 [==============================] - 1s 3ms/step - loss: 0.2866 - accuracy: 0.9198 - val_loss: 0.2820 - val_accuracy: 0.9220\n",
      "Epoch 88/100\n",
      "375/375 [==============================] - 1s 3ms/step - loss: 0.2864 - accuracy: 0.9199 - val_loss: 0.2818 - val_accuracy: 0.9214\n",
      "Epoch 89/100\n",
      "375/375 [==============================] - 1s 3ms/step - loss: 0.2861 - accuracy: 0.9199 - val_loss: 0.2816 - val_accuracy: 0.9218\n",
      "Epoch 90/100\n",
      "375/375 [==============================] - 1s 3ms/step - loss: 0.2860 - accuracy: 0.9201 - val_loss: 0.2814 - val_accuracy: 0.9218\n",
      "Epoch 91/100\n",
      "375/375 [==============================] - 1s 3ms/step - loss: 0.2858 - accuracy: 0.9201 - val_loss: 0.2814 - val_accuracy: 0.9226\n",
      "Epoch 92/100\n",
      "375/375 [==============================] - 1s 3ms/step - loss: 0.2855 - accuracy: 0.9202 - val_loss: 0.2813 - val_accuracy: 0.9218\n",
      "Epoch 93/100\n",
      "375/375 [==============================] - 1s 3ms/step - loss: 0.2854 - accuracy: 0.9201 - val_loss: 0.2811 - val_accuracy: 0.9222\n",
      "Epoch 94/100\n",
      "375/375 [==============================] - 1s 3ms/step - loss: 0.2851 - accuracy: 0.9204 - val_loss: 0.2810 - val_accuracy: 0.9227\n",
      "Epoch 95/100\n",
      "375/375 [==============================] - 1s 3ms/step - loss: 0.2849 - accuracy: 0.9202 - val_loss: 0.2808 - val_accuracy: 0.9221\n",
      "Epoch 96/100\n",
      "375/375 [==============================] - 1s 3ms/step - loss: 0.2847 - accuracy: 0.9205 - val_loss: 0.2807 - val_accuracy: 0.9224\n",
      "Epoch 97/100\n",
      "375/375 [==============================] - 1s 3ms/step - loss: 0.2846 - accuracy: 0.9204 - val_loss: 0.2806 - val_accuracy: 0.9225\n",
      "Epoch 98/100\n",
      "375/375 [==============================] - 1s 3ms/step - loss: 0.2844 - accuracy: 0.9207 - val_loss: 0.2805 - val_accuracy: 0.9226\n",
      "Epoch 99/100\n",
      "375/375 [==============================] - 1s 3ms/step - loss: 0.2842 - accuracy: 0.9204 - val_loss: 0.2804 - val_accuracy: 0.9226\n",
      "Epoch 100/100\n",
      "375/375 [==============================] - 1s 3ms/step - loss: 0.2840 - accuracy: 0.9208 - val_loss: 0.2803 - val_accuracy: 0.9225\n"
     ]
    }
   ],
   "source": [
    "history = model.fit(x=X_train, y=Y_train, batch_size=128, epochs=100, \n",
    "                    verbose=1, validation_split=0.2)"
   ]
  },
  {
   "cell_type": "markdown",
   "metadata": {},
   "source": [
    "Testing the model"
   ]
  },
  {
   "cell_type": "code",
   "execution_count": 74,
   "metadata": {},
   "outputs": [
    {
     "name": "stdout",
     "output_type": "stream",
     "text": [
      "313/313 [==============================] - 1s 2ms/step - loss: 0.2821 - accuracy: 0.9217\n",
      "Loss function: 0.28207147121429443\n",
      "Accuracy: 0.9217000007629395\n"
     ]
    }
   ],
   "source": [
    "score = model.evaluate(x=X_test, y=Y_test, verbose=1)\n",
    "print(\"Loss function: {}\\nAccuracy: {}\".format(score[0], score[1]))"
   ]
  },
  {
   "cell_type": "markdown",
   "metadata": {},
   "source": [
    "<h3>2) Multiple layers model</h3>"
   ]
  },
  {
   "cell_type": "code",
   "execution_count": 15,
   "metadata": {},
   "outputs": [
    {
     "name": "stdout",
     "output_type": "stream",
     "text": [
      "Model: \"sequential_2\"\n",
      "_________________________________________________________________\n",
      "Layer (type)                 Output Shape              Param #   \n",
      "=================================================================\n",
      "dense_5 (Dense)              (None, 10)                7850      \n",
      "_________________________________________________________________\n",
      "dense_6 (Dense)              (None, 128)               1408      \n",
      "_________________________________________________________________\n",
      "dropout_2 (Dropout)          (None, 128)               0         \n",
      "_________________________________________________________________\n",
      "dense_7 (Dense)              (None, 128)               16512     \n",
      "_________________________________________________________________\n",
      "dense_8 (Dense)              (None, 10)                1290      \n",
      "=================================================================\n",
      "Total params: 27,060\n",
      "Trainable params: 27,060\n",
      "Non-trainable params: 0\n",
      "_________________________________________________________________\n"
     ]
    }
   ],
   "source": [
    "#Building the model\n",
    "model = Sequential()\n",
    "model.add(Dense(units=10, activation=\"relu\", input_shape=(784, ))) #input layer\n",
    "#model.add(Activation(\"relu\"))\n",
    "model.add(Dense(128, activation=\"relu\")) #first hidden layer\n",
    "#model.add(Activation(\"relu\"))\n",
    "model.add(Dropout(0.3)) #30% of weight are set to 0\n",
    "model.add(Dense(128, activation=\"relu\")) #second hidden layer\n",
    "#model.add(Activation(\"relu\"))\n",
    "model.add(Dense(10, activation=\"softmax\")) #output layer\n",
    "#model.add(Activation(\"softmax\"))\n",
    "model.summary()"
   ]
  },
  {
   "cell_type": "code",
   "execution_count": 39,
   "metadata": {},
   "outputs": [
    {
     "name": "stdout",
     "output_type": "stream",
     "text": [
      "Train on 48000 samples, validate on 12000 samples\n",
      "WARNING:tensorflow:From /home/anthony/miniconda3/envs/DL/lib/python3.7/site-packages/keras/callbacks/tensorboard_v1.py:200: The name tf.summary.merge_all is deprecated. Please use tf.compat.v1.summary.merge_all instead.\n",
      "\n",
      "WARNING:tensorflow:From /home/anthony/miniconda3/envs/DL/lib/python3.7/site-packages/keras/callbacks/tensorboard_v1.py:203: The name tf.summary.FileWriter is deprecated. Please use tf.compat.v1.summary.FileWriter instead.\n",
      "\n",
      "Epoch 1/50\n",
      "48000/48000 [==============================] - 3s 59us/step - loss: 0.0703 - accuracy: 0.9762 - val_loss: 0.1893 - val_accuracy: 0.9566\n",
      "WARNING:tensorflow:From /home/anthony/miniconda3/envs/DL/lib/python3.7/site-packages/keras/callbacks/tensorboard_v1.py:343: The name tf.Summary is deprecated. Please use tf.compat.v1.Summary instead.\n",
      "\n",
      "Epoch 2/50\n",
      "48000/48000 [==============================] - 3s 53us/step - loss: 0.0690 - accuracy: 0.9765 - val_loss: 0.1851 - val_accuracy: 0.9576\n",
      "Epoch 3/50\n",
      "48000/48000 [==============================] - 3s 52us/step - loss: 0.0713 - accuracy: 0.9764 - val_loss: 0.1890 - val_accuracy: 0.9579\n",
      "Epoch 4/50\n",
      "48000/48000 [==============================] - 2s 51us/step - loss: 0.0703 - accuracy: 0.9761 - val_loss: 0.1915 - val_accuracy: 0.9583\n",
      "Epoch 5/50\n",
      "48000/48000 [==============================] - 2s 52us/step - loss: 0.0708 - accuracy: 0.9768 - val_loss: 0.1936 - val_accuracy: 0.9570\n",
      "Epoch 6/50\n",
      "48000/48000 [==============================] - 3s 55us/step - loss: 0.0681 - accuracy: 0.9769 - val_loss: 0.1934 - val_accuracy: 0.9574\n",
      "Epoch 7/50\n",
      "48000/48000 [==============================] - 3s 59us/step - loss: 0.0687 - accuracy: 0.9775 - val_loss: 0.1901 - val_accuracy: 0.9578\n",
      "Epoch 8/50\n",
      "48000/48000 [==============================] - 3s 52us/step - loss: 0.0689 - accuracy: 0.9768 - val_loss: 0.1928 - val_accuracy: 0.9574\n",
      "Epoch 9/50\n",
      "48000/48000 [==============================] - 3s 53us/step - loss: 0.0690 - accuracy: 0.9772 - val_loss: 0.1970 - val_accuracy: 0.9557\n",
      "Epoch 10/50\n",
      "48000/48000 [==============================] - 3s 63us/step - loss: 0.0668 - accuracy: 0.9772 - val_loss: 0.1846 - val_accuracy: 0.9592\n",
      "Epoch 11/50\n",
      "48000/48000 [==============================] - 3s 62us/step - loss: 0.0687 - accuracy: 0.9768 - val_loss: 0.1854 - val_accuracy: 0.9582\n",
      "Epoch 12/50\n",
      "48000/48000 [==============================] - 3s 60us/step - loss: 0.0673 - accuracy: 0.9770 - val_loss: 0.1986 - val_accuracy: 0.9584\n",
      "Epoch 13/50\n",
      "48000/48000 [==============================] - 3s 59us/step - loss: 0.0669 - accuracy: 0.9767 - val_loss: 0.1943 - val_accuracy: 0.9580\n",
      "Epoch 14/50\n",
      "48000/48000 [==============================] - 3s 56us/step - loss: 0.0678 - accuracy: 0.9768 - val_loss: 0.1967 - val_accuracy: 0.9572\n",
      "Epoch 15/50\n",
      "48000/48000 [==============================] - 3s 54us/step - loss: 0.0646 - accuracy: 0.9781 - val_loss: 0.2004 - val_accuracy: 0.9571\n",
      "Epoch 16/50\n",
      "48000/48000 [==============================] - 3s 56us/step - loss: 0.0646 - accuracy: 0.9776 - val_loss: 0.2009 - val_accuracy: 0.9566\n",
      "Epoch 17/50\n",
      "48000/48000 [==============================] - 3s 53us/step - loss: 0.0659 - accuracy: 0.9770 - val_loss: 0.1961 - val_accuracy: 0.9561\n",
      "Epoch 18/50\n",
      "48000/48000 [==============================] - 3s 52us/step - loss: 0.0636 - accuracy: 0.9788 - val_loss: 0.2009 - val_accuracy: 0.9566\n",
      "Epoch 19/50\n",
      "48000/48000 [==============================] - 3s 58us/step - loss: 0.0677 - accuracy: 0.9769 - val_loss: 0.1968 - val_accuracy: 0.9566\n",
      "Epoch 20/50\n",
      "48000/48000 [==============================] - 3s 70us/step - loss: 0.0659 - accuracy: 0.9774 - val_loss: 0.1962 - val_accuracy: 0.9571\n",
      "Epoch 00020: early stopping\n"
     ]
    }
   ],
   "source": [
    "#compiling and fitting\n",
    "OPTIM = Adam()\n",
    "my_early_stop = EarlyStopping(monitor='val_loss', patience=10, min_delta=0.0001, verbose=1, mode=\"auto\")\n",
    "my_board = TensorBoard(log_dir='./log', histogram_freq=0, write_graph=True, write_images=False)\n",
    "model.compile(optimizer=OPTIM, loss=\"categorical_crossentropy\", metrics=['accuracy'])\n",
    "history = model.fit(x=X_train, y=Y_train, batch_size=128, epochs=50, \n",
    "                    verbose=1, validation_split=0.2, callbacks=[my_early_stop, my_board])"
   ]
  },
  {
   "cell_type": "code",
   "execution_count": 17,
   "metadata": {},
   "outputs": [
    {
     "name": "stdout",
     "output_type": "stream",
     "text": [
      "10000/10000 [==============================] - 0s 48us/step\n",
      "===Testing set===\n",
      "Loss function: 0.15900099079338834\n",
      "Accuracy: 0.954200029373169\n",
      "===Training set===\n",
      "60000/60000 [==============================] - 2s 40us/step\n",
      "Loss function: 0.11188480342915282\n",
      "Accuracy: 0.9642333388328552\n"
     ]
    }
   ],
   "source": [
    "#testing\n",
    "score = model.evaluate(x=X_test, y=Y_test, verbose=1)\n",
    "print(\"===Testing set===\")\n",
    "print(\"Loss function: {}\\nAccuracy: {}\".format(score[0], score[1]))\n",
    "\n",
    "print(\"===Training set===\")\n",
    "score = model.evaluate(x=X_train, y=Y_train, verbose=1)\n",
    "print(\"Loss function: {}\\nAccuracy: {}\".format(score[0], score[1]))\n",
    "#SGD optimizer : 0.948 (training set) / 0.947 (testing set)\n",
    "#RMSprop optimize : 0.974 / 0.956\n",
    "#Adam optimizer : 0.983 / 0.956"
   ]
  },
  {
   "cell_type": "code",
   "execution_count": 18,
   "metadata": {},
   "outputs": [
    {
     "name": "stdout",
     "output_type": "stream",
     "text": [
      "(10000, 10)\n",
      "(60000, 10)\n"
     ]
    }
   ],
   "source": [
    "#Predictions\n",
    "test_prediction = model.predict_proba(X_test, batch_size=20)\n",
    "print(test_prediction.shape)\n",
    "train_prediction = model.predict_proba(X_train, batch_size=20)\n",
    "print(train_prediction.shape)"
   ]
  },
  {
   "cell_type": "code",
   "execution_count": 20,
   "metadata": {},
   "outputs": [
    {
     "data": {
      "text/plain": [
       "Text(0.5, 0, '1-Specificity')"
      ]
     },
     "execution_count": 20,
     "metadata": {},
     "output_type": "execute_result"
    },
    {
     "data": {
      "image/png": "[encoded data removed]",
      "text/plain": [
       "<Figure size 936x360 with 1 Axes>"
      ]
     },
     "metadata": {
      "needs_background": "light"
     },
     "output_type": "display_data"
    }
   ],
   "source": [
    "#other visualization method :\n",
    "import sklearn.metrics as metrics\n",
    "fpr, tpr, thresh = metrics.roc_curve(Y_test[:, 7], test_prediction[:, 7])\n",
    "roc_auc = metrics.auc(fpr, tpr)\n",
    "figure = plt.figure(figsize=(13,5))\n",
    "ax1 = figure.add_subplot(1,1,1)\n",
    "ax1.set_title('Roc curve')\n",
    "ax1.plot(fpr, tpr, 'b', label = 'AUC = %0.2f' % roc_auc)\n",
    "ax1.legend(loc = 'lower right')\n",
    "ax1.plot([0, 1], [0, 1],'r--')\n",
    "ax1.set_xlim([-0.05, 1])\n",
    "ax1.set_ylim([0, 1.05])\n",
    "ax1.set_ylabel('Sensibility')\n",
    "ax1.set_xlabel('1-Specificity')"
   ]
  },
  {
   "cell_type": "code",
   "execution_count": 23,
   "metadata": {},
   "outputs": [],
   "source": [
    "#saving\n",
    "##the architecture :\n",
    "json_model = model.to_json()\n",
    "##weights :\n",
    "model.save(\"my_dense_model.h5\")"
   ]
  },
  {
   "cell_type": "code",
   "execution_count": null,
   "metadata": {},
   "outputs": [],
   "source": []
  },
  {
   "cell_type": "code",
   "execution_count": null,
   "metadata": {},
   "outputs": [],
   "source": []
  }
 ],
 "metadata": {
  "kernelspec": {
   "display_name": "Python 3",
   "language": "python",
   "name": "python3"
  },
  "language_info": {
   "codemirror_mode": {
    "name": "ipython",
    "version": 3
   },
   "file_extension": ".py",
   "mimetype": "text/x-python",
   "name": "python",
   "nbconvert_exporter": "python",
   "pygments_lexer": "ipython3",
   "version": "3.7.8"
  }
 },
 "nbformat": 4,
 "nbformat_minor": 4
}
