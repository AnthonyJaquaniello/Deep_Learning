{
 "cells": [
  {
   "cell_type": "markdown",
   "id": "7626105b-ca8e-4b44-8238-619510474e6e",
   "metadata": {},
   "source": [
    "<h1>Deep Learning</h1>"
   ]
  },
  {
   "cell_type": "markdown",
   "id": "60e6f816-f6db-4366-8618-45daa07e2e9a",
   "metadata": {},
   "source": [
    "(Small advertising: don't activate the environment from base environment, think to first deactivate)"
   ]
  },
  {
   "cell_type": "code",
   "execution_count": 1,
   "id": "36ec1e37-c935-469c-9758-1f2711de1e10",
   "metadata": {},
   "outputs": [
    {
     "name": "stderr",
     "output_type": "stream",
     "text": [
      "Using Theano backend.\n"
     ]
    },
    {
     "name": "stdout",
     "output_type": "stream",
     "text": [
      "theano\n"
     ]
    }
   ],
   "source": [
    "import numpy as np\n",
    "import pandas as pd\n",
    "import matplotlib.pyplot as plt\n",
    "\n",
    "from mlxtend.data import loadlocal_mnist\n",
    "from PIL import Image\n",
    "from keras.utils import np_utils\n",
    "from keras.optimizers import SGD, Adam, RMSprop\n",
    "from keras.losses import categorical_crossentropy\n",
    "from keras.layers.core import Dense, Activation, Dropout, Flatten\n",
    "from keras.models import Sequential, load_model, save_model\n",
    "from keras.callbacks import EarlyStopping, ModelCheckpoint, TensorBoard\n",
    "from keras.datasets import cifar10\n",
    "\n",
    "from keras.layers.convolutional import Conv2D, MaxPooling2D, ZeroPadding2D\n",
    "from keras import backend as K\n",
    "K.set_image_dim_ordering(dim_ordering=\"th\") #we want to use Theano backend image dim order\n",
    "print(K.backend()) #we use Theano as backend\n",
    "#we can see that Theano is used in /media/anthony/USOPP/conda/IA/etc/conda/activate.d/keras_activate.sh\n",
    "\n",
    "import tensorboard\n",
    "%matplotlib inline\n",
    "np.random.seed(seed=777)"
   ]
  },
  {
   "cell_type": "code",
   "execution_count": 8,
   "id": "186d86ec-f0e9-422a-ae43-87907112f8cd",
   "metadata": {},
   "outputs": [],
   "source": [
    "MNIST_PATH = '/media/anthony/USOPP/mnist_data'"
   ]
  },
  {
   "cell_type": "markdown",
   "id": "3cf3fb0c-4fc7-47a6-b52b-7ab3e26304e4",
   "metadata": {},
   "source": [
    "MNIST dataset at <a href='http://yann.lecun.com/exdb/mnist/', target='_blank'>http://yann.lecun.com/exdb/mnist/</a>"
   ]
  },
  {
   "cell_type": "markdown",
   "id": "35ba278f-ab72-45a6-b5a0-11e0ca5333f7",
   "metadata": {},
   "source": [
    "<h2>2) Convolutionnal Neural Network</h2>\n",
    "Useful links:\n",
    "<ul>\n",
    "    <li><a href='https://www.researchgate.net/publication/2453996_Convolutional_Networks_for_Images_Speech_and_Time-Series' target='_blank'>Convolutional_Networks_for_Images_Speech_and_Time-Series</a></li>\n",
    "    </ul>"
   ]
  },
  {
   "cell_type": "markdown",
   "id": "fed4baa4-6ce0-4545-8475-9d7a0b097ecb",
   "metadata": {},
   "source": [
    "<h3>A) MNIST dataset</h3>"
   ]
  },
  {
   "cell_type": "code",
   "execution_count": 13,
   "id": "f3f9fa7c-40a1-446a-a2d9-0cf9b4052381",
   "metadata": {},
   "outputs": [],
   "source": [
    "class Lenet:\n",
    "    def __init__(self, input_shape, classes):\n",
    "        self.model = Sequential()\n",
    "        self.input_shape = input_shape\n",
    "        self.classes = classes\n",
    "    \n",
    "    def build(self):\n",
    "        self.model.add(Conv2D(filters=20, kernel_size=(5, 5), padding='same',\\\n",
    "                              input_shape=self.input_shape, activation='relu'))\n",
    "        #self.model.add(Activation(activation=\"relu\"))\n",
    "        self.model.add(MaxPooling2D(pool_size=(2,2), strides=(2,2)))\n",
    "        self.model.add(Conv2D(filters=50, kernel_size=(5, 5), padding='same', activation='relu'))\n",
    "        #self.model.add(Activation(activation=\"relu\"))\n",
    "        self.model.add(MaxPooling2D(pool_size=(2, 2), strides=(2, 2)))\n",
    "        self.model.add(Flatten())\n",
    "        self.model.add(Dense(units=500, activation='relu'))\n",
    "        #self.model.add(Activation(activation=\"relu\"))\n",
    "        self.model.add(Dense(units=self.classes, activation='relu'))\n",
    "        #self.model.add(Activation(activation=\"softmax\"))\n",
    "        \n",
    "        return self.model"
   ]
  },
  {
   "cell_type": "markdown",
   "id": "423d5185-ace5-4220-b327-a4885407ace8",
   "metadata": {},
   "source": [
    "<h4>Remarks :</h4>\n",
    "<ul>\n",
    "    <li><strong>'filters'</strong> is the number of convolution kernels to use</li>\n",
    "    <li><strong>Increasing the number of filters in deeper layers is a common technique used in deep learning</strong></li>\n",
    "</ul>"
   ]
  },
  {
   "cell_type": "code",
   "execution_count": 14,
   "id": "c8bf96b2-915d-4ac2-ab52-8b468dbfec9e",
   "metadata": {},
   "outputs": [],
   "source": [
    "NB_EPOCHS = 20\n",
    "BATCH_SIZE = 128\n",
    "OPTIMIZER = Adam()\n",
    "VALIDATION_SPLIT = 0.2\n",
    "HEIGHT = WIDTH = 28\n",
    "NB_CLASSES = 10"
   ]
  },
  {
   "cell_type": "markdown",
   "id": "a99882c6-1581-4382-b061-9432f8907a3b",
   "metadata": {},
   "source": [
    "<h4>Processing :</h4>"
   ]
  },
  {
   "cell_type": "code",
   "execution_count": 15,
   "id": "4142dbd6-8704-4145-9467-b2d5e4e1b960",
   "metadata": {},
   "outputs": [
    {
     "name": "stdout",
     "output_type": "stream",
     "text": [
      "(60000, 1, 28, 28)\n",
      "(10000, 1, 28, 28)\n",
      "(60000,)\n",
      "(10000,)\n"
     ]
    }
   ],
   "source": [
    "X_train, Y_train = loadlocal_mnist(images_path=f'{MNIST_PATH}/train-images-idx3-ubyte',\n",
    "                                   labels_path=f'{MNIST_PATH}/train-labels-idx1-ubyte')\n",
    "\n",
    "X_test, Y_test = loadlocal_mnist(images_path=f'{MNIST_PATH}/t10k-images-idx3-ubyte',\n",
    "                                 labels_path=f'{MNIST_PATH}/t10k-labels-idx1-ubyte')\n",
    "\n",
    "#resize images\n",
    "X_train = np.resize(X_train, new_shape=(X_train.shape[0], HEIGHT, WIDTH))\n",
    "X_test = np.resize(X_test, new_shape=(X_test.shape[0], HEIGHT, WIDTH))\n",
    "#for theano backend we need dim ordered as (batch, channels, width, height)\n",
    "X_train = X_train[:, np.newaxis, :, :]\n",
    "X_test = X_test[:, np.newaxis, :, :]\n",
    "print(X_train.shape)\n",
    "print(X_test.shape)\n",
    "print(Y_train.shape)\n",
    "print(Y_test.shape)\n",
    "\n",
    "#rescale images\n",
    "X_train = X_train.astype('float32') #for rescaling part\n",
    "X_test = X_test.astype('float32')\n",
    "X_train /= 255\n",
    "X_test /= 255\n",
    "\n",
    "Y_train = np_utils.to_categorical(y=Y_train, num_classes=NB_CLASSES)\n",
    "Y_test = np_utils.to_categorical(y=Y_test, num_classes=NB_CLASSES)"
   ]
  },
  {
   "cell_type": "markdown",
   "id": "ef3ca231-404e-4fb9-bd83-136e296effb6",
   "metadata": {},
   "source": [
    "<h4>Modelling : </h4>"
   ]
  },
  {
   "cell_type": "code",
   "execution_count": 16,
   "id": "ccaa108f-10e1-4fad-99d7-15cf0f89728c",
   "metadata": {
    "collapsed": true,
    "jupyter": {
     "outputs_hidden": true
    },
    "tags": []
   },
   "outputs": [
    {
     "name": "stdout",
     "output_type": "stream",
     "text": [
      "_________________________________________________________________\n",
      "Layer (type)                 Output Shape              Param #   \n",
      "=================================================================\n",
      "conv2d_2 (Conv2D)            (None, 20, 28, 28)        520       \n",
      "_________________________________________________________________\n",
      "max_pooling2d_1 (MaxPooling2 (None, 20, 14, 14)        0         \n",
      "_________________________________________________________________\n",
      "conv2d_3 (Conv2D)            (None, 50, 14, 14)        25050     \n",
      "_________________________________________________________________\n",
      "max_pooling2d_2 (MaxPooling2 (None, 50, 7, 7)          0         \n",
      "_________________________________________________________________\n",
      "flatten_1 (Flatten)          (None, 2450)              0         \n",
      "_________________________________________________________________\n",
      "dense_1 (Dense)              (None, 500)               1225500   \n",
      "_________________________________________________________________\n",
      "dense_2 (Dense)              (None, 10)                5010      \n",
      "=================================================================\n",
      "Total params: 1,256,080\n",
      "Trainable params: 1,256,080\n",
      "Non-trainable params: 0\n",
      "_________________________________________________________________\n",
      "Train on 48000 samples, validate on 12000 samples\n",
      "Epoch 1/20\n",
      " 8448/48000 [====>.........................] - ETA: 1:20 - loss: 5.9289 - acc: 0.3778"
     ]
    },
    {
     "ename": "KeyboardInterrupt",
     "evalue": "",
     "output_type": "error",
     "traceback": [
      "\u001b[0;31m---------------------------------------------------------------------------\u001b[0m",
      "\u001b[0;31mKeyboardInterrupt\u001b[0m                         Traceback (most recent call last)",
      "\u001b[0;32m<ipython-input-16-265196a5a5ed>\u001b[0m in \u001b[0;36m<module>\u001b[0;34m()\u001b[0m\n\u001b[1;32m      4\u001b[0m \u001b[0mmodel\u001b[0m\u001b[0;34m.\u001b[0m\u001b[0msummary\u001b[0m\u001b[0;34m(\u001b[0m\u001b[0;34m)\u001b[0m\u001b[0;34m\u001b[0m\u001b[0;34m\u001b[0m\u001b[0m\n\u001b[1;32m      5\u001b[0m history = model.fit(X_train, Y_train, batch_size=BATCH_SIZE, epochs=NB_EPOCHS,\n\u001b[0;32m----> 6\u001b[0;31m                     validation_split=VALIDATION_SPLIT)\n\u001b[0m",
      "\u001b[0;32m/media/anthony/USOPP/conda/IA/lib/python3.6/site-packages/keras/models.py\u001b[0m in \u001b[0;36mfit\u001b[0;34m(self, x, y, batch_size, epochs, verbose, callbacks, validation_split, validation_data, shuffle, class_weight, sample_weight, initial_epoch, steps_per_epoch, validation_steps, **kwargs)\u001b[0m\n\u001b[1;32m    961\u001b[0m                               \u001b[0minitial_epoch\u001b[0m\u001b[0;34m=\u001b[0m\u001b[0minitial_epoch\u001b[0m\u001b[0;34m,\u001b[0m\u001b[0;34m\u001b[0m\u001b[0;34m\u001b[0m\u001b[0m\n\u001b[1;32m    962\u001b[0m                               \u001b[0msteps_per_epoch\u001b[0m\u001b[0;34m=\u001b[0m\u001b[0msteps_per_epoch\u001b[0m\u001b[0;34m,\u001b[0m\u001b[0;34m\u001b[0m\u001b[0;34m\u001b[0m\u001b[0m\n\u001b[0;32m--> 963\u001b[0;31m                               validation_steps=validation_steps)\n\u001b[0m\u001b[1;32m    964\u001b[0m \u001b[0;34m\u001b[0m\u001b[0m\n\u001b[1;32m    965\u001b[0m     def evaluate(self, x=None, y=None,\n",
      "\u001b[0;32m/media/anthony/USOPP/conda/IA/lib/python3.6/site-packages/keras/engine/training.py\u001b[0m in \u001b[0;36mfit\u001b[0;34m(self, x, y, batch_size, epochs, verbose, callbacks, validation_split, validation_data, shuffle, class_weight, sample_weight, initial_epoch, steps_per_epoch, validation_steps, **kwargs)\u001b[0m\n\u001b[1;32m   1703\u001b[0m                               \u001b[0minitial_epoch\u001b[0m\u001b[0;34m=\u001b[0m\u001b[0minitial_epoch\u001b[0m\u001b[0;34m,\u001b[0m\u001b[0;34m\u001b[0m\u001b[0;34m\u001b[0m\u001b[0m\n\u001b[1;32m   1704\u001b[0m                               \u001b[0msteps_per_epoch\u001b[0m\u001b[0;34m=\u001b[0m\u001b[0msteps_per_epoch\u001b[0m\u001b[0;34m,\u001b[0m\u001b[0;34m\u001b[0m\u001b[0;34m\u001b[0m\u001b[0m\n\u001b[0;32m-> 1705\u001b[0;31m                               validation_steps=validation_steps)\n\u001b[0m\u001b[1;32m   1706\u001b[0m \u001b[0;34m\u001b[0m\u001b[0m\n\u001b[1;32m   1707\u001b[0m     def evaluate(self, x=None, y=None,\n",
      "\u001b[0;32m/media/anthony/USOPP/conda/IA/lib/python3.6/site-packages/keras/engine/training.py\u001b[0m in \u001b[0;36m_fit_loop\u001b[0;34m(self, f, ins, out_labels, batch_size, epochs, verbose, callbacks, val_f, val_ins, shuffle, callback_metrics, initial_epoch, steps_per_epoch, validation_steps)\u001b[0m\n\u001b[1;32m   1233\u001b[0m                         \u001b[0mins_batch\u001b[0m\u001b[0;34m[\u001b[0m\u001b[0mi\u001b[0m\u001b[0;34m]\u001b[0m \u001b[0;34m=\u001b[0m \u001b[0mins_batch\u001b[0m\u001b[0;34m[\u001b[0m\u001b[0mi\u001b[0m\u001b[0;34m]\u001b[0m\u001b[0;34m.\u001b[0m\u001b[0mtoarray\u001b[0m\u001b[0;34m(\u001b[0m\u001b[0;34m)\u001b[0m\u001b[0;34m\u001b[0m\u001b[0;34m\u001b[0m\u001b[0m\n\u001b[1;32m   1234\u001b[0m \u001b[0;34m\u001b[0m\u001b[0m\n\u001b[0;32m-> 1235\u001b[0;31m                     \u001b[0mouts\u001b[0m \u001b[0;34m=\u001b[0m \u001b[0mf\u001b[0m\u001b[0;34m(\u001b[0m\u001b[0mins_batch\u001b[0m\u001b[0;34m)\u001b[0m\u001b[0;34m\u001b[0m\u001b[0;34m\u001b[0m\u001b[0m\n\u001b[0m\u001b[1;32m   1236\u001b[0m                     \u001b[0;32mif\u001b[0m \u001b[0;32mnot\u001b[0m \u001b[0misinstance\u001b[0m\u001b[0;34m(\u001b[0m\u001b[0mouts\u001b[0m\u001b[0;34m,\u001b[0m \u001b[0mlist\u001b[0m\u001b[0;34m)\u001b[0m\u001b[0;34m:\u001b[0m\u001b[0;34m\u001b[0m\u001b[0;34m\u001b[0m\u001b[0m\n\u001b[1;32m   1237\u001b[0m                         \u001b[0mouts\u001b[0m \u001b[0;34m=\u001b[0m \u001b[0;34m[\u001b[0m\u001b[0mouts\u001b[0m\u001b[0;34m]\u001b[0m\u001b[0;34m\u001b[0m\u001b[0;34m\u001b[0m\u001b[0m\n",
      "\u001b[0;32m/media/anthony/USOPP/conda/IA/lib/python3.6/site-packages/keras/backend/theano_backend.py\u001b[0m in \u001b[0;36m__call__\u001b[0;34m(self, inputs)\u001b[0m\n\u001b[1;32m   1225\u001b[0m     \u001b[0;32mdef\u001b[0m \u001b[0m__call__\u001b[0m\u001b[0;34m(\u001b[0m\u001b[0mself\u001b[0m\u001b[0;34m,\u001b[0m \u001b[0minputs\u001b[0m\u001b[0;34m)\u001b[0m\u001b[0;34m:\u001b[0m\u001b[0;34m\u001b[0m\u001b[0;34m\u001b[0m\u001b[0m\n\u001b[1;32m   1226\u001b[0m         \u001b[0;32massert\u001b[0m \u001b[0misinstance\u001b[0m\u001b[0;34m(\u001b[0m\u001b[0minputs\u001b[0m\u001b[0;34m,\u001b[0m \u001b[0;34m(\u001b[0m\u001b[0mlist\u001b[0m\u001b[0;34m,\u001b[0m \u001b[0mtuple\u001b[0m\u001b[0;34m)\u001b[0m\u001b[0;34m)\u001b[0m\u001b[0;34m\u001b[0m\u001b[0;34m\u001b[0m\u001b[0m\n\u001b[0;32m-> 1227\u001b[0;31m         \u001b[0;32mreturn\u001b[0m \u001b[0mself\u001b[0m\u001b[0;34m.\u001b[0m\u001b[0mfunction\u001b[0m\u001b[0;34m(\u001b[0m\u001b[0;34m*\u001b[0m\u001b[0minputs\u001b[0m\u001b[0;34m)\u001b[0m\u001b[0;34m\u001b[0m\u001b[0;34m\u001b[0m\u001b[0m\n\u001b[0m\u001b[1;32m   1228\u001b[0m \u001b[0;34m\u001b[0m\u001b[0m\n\u001b[1;32m   1229\u001b[0m \u001b[0;34m\u001b[0m\u001b[0m\n",
      "\u001b[0;32m/media/anthony/USOPP/conda/IA/lib/python3.6/site-packages/theano/compile/function_module.py\u001b[0m in \u001b[0;36m__call__\u001b[0;34m(self, *args, **kwargs)\u001b[0m\n\u001b[1;32m    882\u001b[0m         \u001b[0;32mtry\u001b[0m\u001b[0;34m:\u001b[0m\u001b[0;34m\u001b[0m\u001b[0;34m\u001b[0m\u001b[0m\n\u001b[1;32m    883\u001b[0m             \u001b[0moutputs\u001b[0m \u001b[0;34m=\u001b[0m\u001b[0;31m\\\u001b[0m\u001b[0;34m\u001b[0m\u001b[0;34m\u001b[0m\u001b[0m\n\u001b[0;32m--> 884\u001b[0;31m                 \u001b[0mself\u001b[0m\u001b[0;34m.\u001b[0m\u001b[0mfn\u001b[0m\u001b[0;34m(\u001b[0m\u001b[0;34m)\u001b[0m \u001b[0;32mif\u001b[0m \u001b[0moutput_subset\u001b[0m \u001b[0;32mis\u001b[0m \u001b[0;32mNone\u001b[0m \u001b[0;32melse\u001b[0m\u001b[0;31m\\\u001b[0m\u001b[0;34m\u001b[0m\u001b[0;34m\u001b[0m\u001b[0m\n\u001b[0m\u001b[1;32m    885\u001b[0m                 \u001b[0mself\u001b[0m\u001b[0;34m.\u001b[0m\u001b[0mfn\u001b[0m\u001b[0;34m(\u001b[0m\u001b[0moutput_subset\u001b[0m\u001b[0;34m=\u001b[0m\u001b[0moutput_subset\u001b[0m\u001b[0;34m)\u001b[0m\u001b[0;34m\u001b[0m\u001b[0;34m\u001b[0m\u001b[0m\n\u001b[1;32m    886\u001b[0m         \u001b[0;32mexcept\u001b[0m \u001b[0mException\u001b[0m\u001b[0;34m:\u001b[0m\u001b[0;34m\u001b[0m\u001b[0;34m\u001b[0m\u001b[0m\n",
      "\u001b[0;31mKeyboardInterrupt\u001b[0m: "
     ]
    }
   ],
   "source": [
    "model = Lenet(input_shape=(1, HEIGHT, WIDTH), classes=NB_CLASSES)\n",
    "model = model.build()\n",
    "model.compile(optimizer=OPTIMIZER, loss='categorical_crossentropy', metrics=['accuracy'])\n",
    "model.summary()\n",
    "history = model.fit(X_train, Y_train, batch_size=BATCH_SIZE, epochs=NB_EPOCHS,\n",
    "                    validation_split=VALIDATION_SPLIT)"
   ]
  },
  {
   "cell_type": "code",
   "execution_count": null,
   "id": "0f2464f7-6835-4ea1-b24e-becc09e2d5b6",
   "metadata": {},
   "outputs": [],
   "source": [
    "test_score = model.evaluate(x=X_test, y=Y_test)\n",
    "print(f'Loss function minima for testing set : {test_score[0]:.3f}')\n",
    "print(f'Accuracy maxima for testing set: {test_score[1]:.3f}')\n",
    "\n",
    "train_score = model.evaluate(x=X_train, y=Y_train)\n",
    "print(f'Loss function minima for training set : {train_score[0]:.3f}')\n",
    "print(f'Accuracy maxima for training set: {train_score[1]:.3f}')"
   ]
  },
  {
   "cell_type": "code",
   "execution_count": null,
   "id": "85c338e5-4df6-4ae0-b08e-25dba9862ccb",
   "metadata": {},
   "outputs": [],
   "source": [
    "figure = plt.figure(figsize=(15, 5))\n",
    "acc = figure.add_subplot(1, 2, 1)\n",
    "acc.plot(history.history['acc'], c='b', label='train')\n",
    "acc.plot(history.history['val_acc'], c='r', label='test')\n",
    "acc.set_title('Model accuracy')\n",
    "acc.set_xlabel('epochs')\n",
    "acc.set_ylabel('accuracy')\n",
    "acc.legend()\n",
    "\n",
    "loss = figure.add_subplot(1, 2, 2)\n",
    "loss.plot(history.history['loss'], c='b', label='train')\n",
    "loss.plot(history.history['val_loss'], c='r', label='test')\n",
    "loss.set_title('Loss function')\n",
    "loss.set_xlabel('epochs')\n",
    "loss.set_ylabel('loss')\n",
    "loss.legend()"
   ]
  },
  {
   "cell_type": "markdown",
   "id": "48bc662c-302f-4b9d-a1b6-5f2a7e165762",
   "metadata": {},
   "source": [
    "<h3>B) CIFAR-10 dataset</h3>\n",
    "Images of animals and vehicules divided in 10 classes, available at : <a href='https://www.cs.toronto.edu/~kriz/cifar.html' target='_blank'>https://www.cs.toronto.edu/~kriz/cifar.html</a>"
   ]
  },
  {
   "cell_type": "code",
   "execution_count": 7,
   "id": "83865ef7-9e59-4e7b-afeb-c48e0789be26",
   "metadata": {},
   "outputs": [],
   "source": [
    "IMG_CHANNEL = 3 #Because RGB images\n",
    "HEIGHT = WIDTH = 32\n",
    "BATCH_SIZE = 128\n",
    "NB_EPOCH = 10\n",
    "NB_CLASSES = 10\n",
    "VALIDATION_SPLIT = 0.2\n",
    "OPTIM = RMSprop() #closure"
   ]
  },
  {
   "cell_type": "code",
   "execution_count": 3,
   "id": "9573e83a-376c-414c-b9e0-b889c780832b",
   "metadata": {},
   "outputs": [
    {
     "name": "stdout",
     "output_type": "stream",
     "text": [
      "(50000, 3, 32, 32)\n",
      "(10000, 3, 32, 32)\n",
      "(50000, 1)\n",
      "(10000, 1)\n"
     ]
    }
   ],
   "source": [
    "(X_train, Y_train), (X_test, Y_test) = cifar10.load_data()\n",
    "print(X_train.shape)\n",
    "print(X_test.shape)\n",
    "print(Y_train.shape)\n",
    "print(Y_test.shape)"
   ]
  },
  {
   "cell_type": "code",
   "execution_count": 4,
   "id": "031869e5-44c5-4220-937a-2ee8861bc6dd",
   "metadata": {},
   "outputs": [
    {
     "data": {
      "text/plain": [
       "<matplotlib.image.AxesImage at 0x7f04af6644e0>"
      ]
     },
     "execution_count": 4,
     "metadata": {},
     "output_type": "execute_result"
    },
    {
     "data": {
      "image/png": "[encoded data removed]",
      "text/plain": [
       "<Figure size 432x288 with 1 Axes>"
      ]
     },
     "metadata": {
      "needs_background": "light"
     },
     "output_type": "display_data"
    }
   ],
   "source": [
    "plt.imshow(X_train[1, 0, :, :])"
   ]
  },
  {
   "cell_type": "code",
   "execution_count": 5,
   "id": "3e9e5698-c80b-476d-9170-2964feeb3eac",
   "metadata": {},
   "outputs": [
    {
     "name": "stdout",
     "output_type": "stream",
     "text": [
      "(50000, 3, 32, 32)\n",
      "(10000, 3, 32, 32)\n",
      "(50000, 10)\n",
      "(10000, 10)\n"
     ]
    }
   ],
   "source": [
    "#resizing\n",
    "#for theano backend we need dim ordered as (batch, channels, width, height)\n",
    "#X_train = np.moveaxis(a=X_train, source=3, destination=1)\n",
    "#X_test = np.moveaxis(a=X_test, source=3, destination=1)\n",
    "\n",
    "#rescaling\n",
    "X_train = X_train.astype('float')\n",
    "X_train = X_train/255\n",
    "X_test = X_test.astype('float')\n",
    "X_test = X_test/255\n",
    "\n",
    "Y_train = np_utils.to_categorical(Y_train, NB_CLASSES)\n",
    "Y_test = np_utils.to_categorical(Y_test, NB_CLASSES)\n",
    "print(X_train.shape)\n",
    "print(X_test.shape)\n",
    "print(Y_train.shape)\n",
    "print(Y_test.shape)"
   ]
  },
  {
   "cell_type": "markdown",
   "id": "657ae483-d871-4891-8913-384c59bde89f",
   "metadata": {},
   "source": [
    "<h4>Modelling :</h4>"
   ]
  },
  {
   "cell_type": "code",
   "execution_count": 6,
   "id": "2140b568-4260-4da3-a8be-4b69f9199aae",
   "metadata": {},
   "outputs": [],
   "source": [
    "class Cifar_net:\n",
    "    def __init__(self, input_shape, classes):\n",
    "        self.model = Sequential()\n",
    "        self.input_shape = input_shape\n",
    "        self.classes = classes\n",
    "    \n",
    "    def build(self):\n",
    "        self.model.add(Conv2D(filters=32, kernel_size=(3, 3), padding='same', \n",
    "                              activation='relu', input_shape=self.input_shape))\n",
    "        self.model.add(Conv2D(filters=32, kernel_size=(3, 3), padding='same', \n",
    "                              activation='relu'))\n",
    "        self.model.add(MaxPooling2D(pool_size=(2, 2)))\n",
    "        self.model.add(Dropout(rate=0.25))\n",
    "        self.model.add(Conv2D(filters=64, kernel_size=(3, 3), padding='same', \n",
    "                              activation='relu'))\n",
    "        self.model.add(Conv2D(filters=64, kernel_size=(3, 3), padding='same', \n",
    "                              activation='relu'))\n",
    "        self.model.add(MaxPooling2D(pool_size=(2, 2)))\n",
    "        self.model.add(Dropout(rate=0.25))\n",
    "        self.model.add(Flatten())\n",
    "        self.model.add(Dense(units=512, activation='relu'))\n",
    "        self.model.add(Dropout(rate=0.5))\n",
    "        self.model.add(Dense(units=self.classes, activation='softmax'))\n",
    "        \n",
    "        return self.model"
   ]
  },
  {
   "cell_type": "markdown",
   "id": "7f08d939-06ab-4275-8492-47963f925ba2",
   "metadata": {},
   "source": [
    "<strong>Remarks:</strong>\n",
    "<ul>\n",
    "    <li>The part 'Dense + Dropout + Dense' is defined as a standard in CNN (see 'Deep Learning with Keras' book)</li>\n",
    "    <li>A way to improve performance is to generate new data by simply flip, zoom, rotate, rescale, transform some image data of the traing set</li>\n",
    "    </ul>"
   ]
  },
  {
   "cell_type": "code",
   "execution_count": 8,
   "id": "3566fd86-802c-40b4-bdbe-fce00658cbfe",
   "metadata": {},
   "outputs": [
    {
     "name": "stdout",
     "output_type": "stream",
     "text": [
      "_________________________________________________________________\n",
      "Layer (type)                 Output Shape              Param #   \n",
      "=================================================================\n",
      "conv2d_1 (Conv2D)            (None, 32, 32, 32)        896       \n",
      "_________________________________________________________________\n",
      "conv2d_2 (Conv2D)            (None, 32, 32, 32)        9248      \n",
      "_________________________________________________________________\n",
      "max_pooling2d_1 (MaxPooling2 (None, 32, 16, 16)        0         \n",
      "_________________________________________________________________\n",
      "dropout_1 (Dropout)          (None, 32, 16, 16)        0         \n",
      "_________________________________________________________________\n",
      "conv2d_3 (Conv2D)            (None, 64, 16, 16)        18496     \n",
      "_________________________________________________________________\n",
      "conv2d_4 (Conv2D)            (None, 64, 16, 16)        36928     \n",
      "_________________________________________________________________\n",
      "max_pooling2d_2 (MaxPooling2 (None, 64, 8, 8)          0         \n",
      "_________________________________________________________________\n",
      "dropout_2 (Dropout)          (None, 64, 8, 8)          0         \n",
      "_________________________________________________________________\n",
      "flatten_1 (Flatten)          (None, 4096)              0         \n",
      "_________________________________________________________________\n",
      "dense_1 (Dense)              (None, 512)               2097664   \n",
      "_________________________________________________________________\n",
      "dropout_3 (Dropout)          (None, 512)               0         \n",
      "_________________________________________________________________\n",
      "dense_2 (Dense)              (None, 10)                5130      \n",
      "=================================================================\n",
      "Total params: 2,168,362\n",
      "Trainable params: 2,168,362\n",
      "Non-trainable params: 0\n",
      "_________________________________________________________________\n",
      "Train on 40000 samples, validate on 10000 samples\n",
      "Epoch 1/10\n",
      "40000/40000 [==============================] - 262s 7ms/step - loss: 1.8336 - acc: 0.3348 - val_loss: 1.4127 - val_acc: 0.4875\n",
      "Epoch 2/10\n",
      "40000/40000 [==============================] - 264s 7ms/step - loss: 1.3538 - acc: 0.5165 - val_loss: 1.0725 - val_acc: 0.6208\n",
      "Epoch 3/10\n",
      "40000/40000 [==============================] - 302s 8ms/step - loss: 1.1206 - acc: 0.6012 - val_loss: 1.0688 - val_acc: 0.6226\n",
      "Epoch 4/10\n",
      "40000/40000 [==============================] - 315s 8ms/step - loss: 0.9803 - acc: 0.6556 - val_loss: 0.8859 - val_acc: 0.6966\n",
      "Epoch 5/10\n",
      "40000/40000 [==============================] - 268s 7ms/step - loss: 0.8842 - acc: 0.6922 - val_loss: 0.8562 - val_acc: 0.7038\n",
      "Epoch 6/10\n",
      "40000/40000 [==============================] - 294s 7ms/step - loss: 0.8026 - acc: 0.7196 - val_loss: 0.7865 - val_acc: 0.7281\n",
      "Epoch 7/10\n",
      "40000/40000 [==============================] - 305s 8ms/step - loss: 0.7441 - acc: 0.7405 - val_loss: 0.7377 - val_acc: 0.7493\n",
      "Epoch 8/10\n",
      "40000/40000 [==============================] - 348s 9ms/step - loss: 0.7039 - acc: 0.7586 - val_loss: 0.7478 - val_acc: 0.7463\n",
      "Epoch 9/10\n",
      "40000/40000 [==============================] - 331s 8ms/step - loss: 0.6670 - acc: 0.7702 - val_loss: 0.8808 - val_acc: 0.7417\n",
      "Epoch 10/10\n",
      "40000/40000 [==============================] - 276s 7ms/step - loss: 0.6347 - acc: 0.7824 - val_loss: 0.7854 - val_acc: 0.7577\n"
     ]
    }
   ],
   "source": [
    "cifar_model = Cifar_net(input_shape=(IMG_CHANNEL, HEIGHT, WIDTH), classes=NB_CLASSES)\n",
    "cifar_model = cifar_model.build()\n",
    "cifar_model.summary()\n",
    "cifar_model.compile(optimizer=OPTIM, loss='categorical_crossentropy', metrics=['accuracy'])\n",
    "history = cifar_model.fit(X_train, Y_train, batch_size=BATCH_SIZE, \n",
    "                          epochs=NB_EPOCH, validation_split=VALIDATION_SPLIT)"
   ]
  },
  {
   "cell_type": "code",
   "execution_count": 9,
   "id": "d9ddc1db-01cb-4706-a22d-431ddd0d3600",
   "metadata": {},
   "outputs": [
    {
     "name": "stdout",
     "output_type": "stream",
     "text": [
      "10000/10000 [==============================] - 27s 3ms/step\n",
      "Loss function minima for testing set : 0.807\n",
      "Accuracy maxima for testing set: 0.754\n",
      "50000/50000 [==============================] - 144s 3ms/step\n",
      "Loss function minima for training set : 0.516\n",
      "Accuracy maxima for training set: 0.830\n"
     ]
    }
   ],
   "source": [
    "test_score = cifar_model.evaluate(x=X_test, y=Y_test)\n",
    "print(f'Loss function minima for testing set : {test_score[0]:.3f}')\n",
    "print(f'Accuracy maxima for testing set: {test_score[1]:.3f}')\n",
    "\n",
    "train_score = cifar_model.evaluate(x=X_train, y=Y_train)\n",
    "print(f'Loss function minima for training set : {train_score[0]:.3f}')\n",
    "print(f'Accuracy maxima for training set: {train_score[1]:.3f}')"
   ]
  },
  {
   "cell_type": "code",
   "execution_count": 10,
   "id": "72874409-e477-4ba6-8fd0-2b0929d0d9f1",
   "metadata": {},
   "outputs": [
    {
     "data": {
      "text/plain": [
       "<matplotlib.legend.Legend at 0x7f04afc4ba20>"
      ]
     },
     "execution_count": 10,
     "metadata": {},
     "output_type": "execute_result"
    },
    {
     "data": {
      "image/png": "[encoded data removed]",
      "text/plain": [
       "<Figure size 1080x360 with 2 Axes>"
      ]
     },
     "metadata": {
      "needs_background": "light"
     },
     "output_type": "display_data"
    }
   ],
   "source": [
    "figure = plt.figure(figsize=(15, 5))\n",
    "acc = figure.add_subplot(1, 2, 1)\n",
    "acc.plot(history.history['acc'], c='b', label='train')\n",
    "acc.plot(history.history['val_acc'], c='r', label='test')\n",
    "acc.set_title('Model accuracy')\n",
    "acc.set_xlabel('epochs')\n",
    "acc.set_ylabel('accuracy')\n",
    "acc.legend()\n",
    "\n",
    "loss = figure.add_subplot(1, 2, 2)\n",
    "loss.plot(history.history['loss'], c='b', label='train')\n",
    "loss.plot(history.history['val_loss'], c='r', label='test')\n",
    "loss.set_title('Loss function')\n",
    "loss.set_xlabel('epochs')\n",
    "loss.set_ylabel('loss')\n",
    "loss.legend()"
   ]
  },
  {
   "cell_type": "code",
   "execution_count": 11,
   "id": "7bbdf8d2-0b21-4c15-b16e-0a4d01c4ef7d",
   "metadata": {},
   "outputs": [],
   "source": [
    "cifar_model.save(filepath='models/cifar_model2.h5')\n",
    "cifar_model = load_model(filepath='models/cifar_model2.h5')"
   ]
  },
  {
   "cell_type": "markdown",
   "id": "ca1d6a33-6e3d-47de-a4b3-97553ed224bf",
   "metadata": {},
   "source": [
    "<h4>Predictions :</h4>"
   ]
  },
  {
   "cell_type": "code",
   "execution_count": 12,
   "id": "f42af7a7-6012-4413-9b81-c98334402117",
   "metadata": {},
   "outputs": [
    {
     "name": "stdout",
     "output_type": "stream",
     "text": [
      "(1, 3, 32, 32)\n"
     ]
    },
    {
     "data": {
      "image/png": "[encoded data removed]",
      "text/plain": [
       "<Figure size 432x288 with 1 Axes>"
      ]
     },
     "metadata": {
      "needs_background": "light"
     },
     "output_type": "display_data"
    }
   ],
   "source": [
    "cat = Image.open('img/cat_face.jpeg')\n",
    "cat = cat.resize(size=(32, 32))\n",
    "cat = np.array(cat)\n",
    "plt.imshow(cat)\n",
    "cat = cat.astype('float32') / 255\n",
    "cat = np.resize(cat, new_shape=(1, cat.shape[2], 32, 32))\n",
    "print(cat.shape)"
   ]
  },
  {
   "cell_type": "code",
   "execution_count": 13,
   "id": "797bc1dd-d2f6-4941-b4f5-1966e4bea600",
   "metadata": {},
   "outputs": [
    {
     "name": "stdout",
     "output_type": "stream",
     "text": [
      "[[2.93249458e-01 7.88219564e-04 5.61314810e-04 1.20347926e-04\n",
      "  9.56793519e-05 3.68847736e-06 8.49242952e-06 6.47362057e-08\n",
      "  7.04277277e-01 8.95447854e-04]]\n",
      "8\n"
     ]
    }
   ],
   "source": [
    "prediction = cifar_model.predict(cat)\n",
    "print(prediction)\n",
    "print(np.argmax(prediction))"
   ]
  },
  {
   "cell_type": "markdown",
   "id": "4c8051ca-65da-4ef7-9f30-2c40886c635d",
   "metadata": {},
   "source": [
    "That's not a good prediction for the cat image !"
   ]
  },
  {
   "cell_type": "code",
   "execution_count": 14,
   "id": "2ef4f4fa-ae57-4efe-b962-454a3a88321d",
   "metadata": {},
   "outputs": [
    {
     "name": "stdout",
     "output_type": "stream",
     "text": [
      "(1, 3, 32, 32)\n"
     ]
    },
    {
     "data": {
      "image/png": "[encoded data removed]",
      "text/plain": [
       "<Figure size 432x288 with 1 Axes>"
      ]
     },
     "metadata": {
      "needs_background": "light"
     },
     "output_type": "display_data"
    }
   ],
   "source": [
    "dog = Image.open('img/dog_face.jpeg')\n",
    "dog = dog.resize(size=(32, 32))\n",
    "dog = np.array(dog)\n",
    "plt.imshow(dog)\n",
    "dog = dog.astype('float32') / 255\n",
    "dog = np.resize(dog, new_shape=(1, dog.shape[2], 32, 32))\n",
    "print(dog.shape)"
   ]
  },
  {
   "cell_type": "code",
   "execution_count": 15,
   "id": "1a525ca5-e09b-4615-bb8a-fd78f9236dc6",
   "metadata": {},
   "outputs": [
    {
     "name": "stdout",
     "output_type": "stream",
     "text": [
      "[[3.42538320e-02 4.23214951e-05 7.99425542e-01 3.39448638e-02\n",
      "  9.02046543e-03 9.35246295e-04 1.20469974e-02 2.57574288e-06\n",
      "  1.08734906e-01 1.59327616e-03]]\n",
      "2\n"
     ]
    }
   ],
   "source": [
    "prediction = cifar_model.predict(dog)\n",
    "print(prediction)\n",
    "print(np.argmax(prediction))"
   ]
  },
  {
   "cell_type": "markdown",
   "id": "0590ffdd-90cf-45c0-a939-704f7f939ef4",
   "metadata": {},
   "source": [
    "That's a good prediction for the dog image !"
   ]
  },
  {
   "cell_type": "markdown",
   "id": "970b6831-b3ec-46cf-ab1c-8f89253acaa5",
   "metadata": {},
   "source": [
    "<h3>C) VGG16 network</h3>"
   ]
  },
  {
   "cell_type": "markdown",
   "id": "863ac4d7-e40f-4ff8-94bf-6d4fd6538810",
   "metadata": {},
   "source": [
    "Useful links:\n",
    "    <ul>\n",
    "        <li><a href='https://arxiv.org/abs/1409.1556v4' target='_blank'><https://arxiv.org/abs/1409.1556v4/a></li>\n",
    "        <li><a href='https://caffe.berkeleyvision.org/' target='_blank'>https://caffe.berkeleyvision.org/</a></li>\n",
    "        <li href='https://image-net.org/challenges/LSVRC/2012/index.php' target='_blank'><a>https://image-net.org/challenges/LSVRC/2012/index.php</a></li>\n",
    "            <li><a href='https://gist.github.com/yrevar/942d3a0ac09ec9e5eb3a' traget='_blank'>https://gist.github.com/yrevar/942d3a0ac09ec9e5eb3a</a> (for labels)</li>\n",
    "    </ul>"
   ]
  },
  {
   "cell_type": "code",
   "execution_count": 15,
   "id": "87c6c7f9-1126-48e5-b863-dae5a1924c8e",
   "metadata": {},
   "outputs": [],
   "source": [
    "#Can be loaded from keras:\n",
    "from keras.applications.vgg16 import VGG16"
   ]
  },
  {
   "cell_type": "markdown",
   "id": "05f9a79f-b6d6-470f-b923-f400219f7f91",
   "metadata": {},
   "source": [
    "VGG16 structure :\n",
    "<img src='img/vgg16.png'/>"
   ]
  },
  {
   "cell_type": "markdown",
   "id": "81e3ac69-eb4e-433a-ba40-a5a98afe3a2f",
   "metadata": {
    "jupyter": {
     "outputs_hidden": true
    },
    "tags": []
   },
   "source": [
    "Another view of VGG16:\n",
    "<img src='img/vgg16_2.png'/>"
   ]
  },
  {
   "cell_type": "code",
   "execution_count": 33,
   "id": "b6ba9828-a2fc-4262-95b9-146a9c5b8ac3",
   "metadata": {},
   "outputs": [
    {
     "name": "stdout",
     "output_type": "stream",
     "text": [
      "(1, 3, 224, 224)\n"
     ]
    },
    {
     "data": {
      "image/png": "[encoded data removed]",
      "text/plain": [
       "<Figure size 432x288 with 1 Axes>"
      ]
     },
     "metadata": {
      "needs_background": "light"
     },
     "output_type": "display_data"
    }
   ],
   "source": [
    "dog = Image.open('img/dog_face.jpeg')\n",
    "dog = dog.resize(size=(224, 224))\n",
    "dog = np.array(dog)\n",
    "dog = dog.astype('float32')\n",
    "dog /= 255\n",
    "plt.imshow(dog)\n",
    "dog = np.resize(dog, new_shape=(1, dog.shape[2], 224, 224))\n",
    "print(dog.shape)"
   ]
  },
  {
   "cell_type": "code",
   "execution_count": 20,
   "id": "013bd2d9-e9fc-4df8-8207-9d1d93d6887d",
   "metadata": {
    "collapsed": true,
    "jupyter": {
     "outputs_hidden": true
    },
    "tags": []
   },
   "outputs": [
    {
     "name": "stdout",
     "output_type": "stream",
     "text": [
      "Downloading data from https://github.com/fchollet/deep-learning-models/releases/download/v0.1/vgg16_weights_tf_dim_ordering_tf_kernels.h5\n",
      "553467904/553467096 [==============================] - 228s 0us/step\n"
     ]
    },
    {
     "name": "stderr",
     "output_type": "stream",
     "text": [
      "/media/anthony/USOPP/conda/IA/lib/python3.6/site-packages/keras/utils/conv_utils.py:93: FutureWarning: Using a non-tuple sequence for multidimensional indexing is deprecated; use `arr[tuple(seq)]` instead of `arr[seq]`. In the future this will be interpreted as an array index, `arr[np.array(seq)]`, which will result either in an error or a different result.\n",
      "  return np.copy(kernel[slices])\n"
     ]
    },
    {
     "data": {
      "text/plain": [
       "\u001b[0;31mSignature:\u001b[0m \u001b[0mmodel\u001b[0m\u001b[0;34m.\u001b[0m\u001b[0mcompile\u001b[0m\u001b[0;34m(\u001b[0m\u001b[0moptimizer\u001b[0m\u001b[0;34m,\u001b[0m \u001b[0mloss\u001b[0m\u001b[0;34m=\u001b[0m\u001b[0;32mNone\u001b[0m\u001b[0;34m,\u001b[0m \u001b[0mmetrics\u001b[0m\u001b[0;34m=\u001b[0m\u001b[0;32mNone\u001b[0m\u001b[0;34m,\u001b[0m \u001b[0mloss_weights\u001b[0m\u001b[0;34m=\u001b[0m\u001b[0;32mNone\u001b[0m\u001b[0;34m,\u001b[0m \u001b[0msample_weight_mode\u001b[0m\u001b[0;34m=\u001b[0m\u001b[0;32mNone\u001b[0m\u001b[0;34m,\u001b[0m \u001b[0mweighted_metrics\u001b[0m\u001b[0;34m=\u001b[0m\u001b[0;32mNone\u001b[0m\u001b[0;34m,\u001b[0m \u001b[0mtarget_tensors\u001b[0m\u001b[0;34m=\u001b[0m\u001b[0;32mNone\u001b[0m\u001b[0;34m,\u001b[0m \u001b[0;34m**\u001b[0m\u001b[0mkwargs\u001b[0m\u001b[0;34m)\u001b[0m\u001b[0;34m\u001b[0m\u001b[0;34m\u001b[0m\u001b[0m\n",
       "\u001b[0;31mDocstring:\u001b[0m\n",
       "Configures the model for training.\n",
       "\n",
       "# Arguments\n",
       "    optimizer: String (name of optimizer) or optimizer instance.\n",
       "        See [optimizers](/optimizers).\n",
       "    loss: String (name of objective function) or objective function.\n",
       "        See [losses](/losses).\n",
       "        If the model has multiple outputs, you can use a different loss\n",
       "        on each output by passing a dictionary or a list of losses.\n",
       "        The loss value that will be minimized by the model\n",
       "        will then be the sum of all individual losses.\n",
       "    metrics: List of metrics to be evaluated by the model\n",
       "        during training and testing.\n",
       "        Typically you will use `metrics=['accuracy']`.\n",
       "        To specify different metrics for different outputs of a\n",
       "        multi-output model, you could also pass a dictionary,\n",
       "        such as `metrics={'output_a': 'accuracy'}`.\n",
       "    loss_weights: Optional list or dictionary specifying scalar\n",
       "        coefficients (Python floats) to weight the loss contributions\n",
       "        of different model outputs.\n",
       "        The loss value that will be minimized by the model\n",
       "        will then be the *weighted sum* of all individual losses,\n",
       "        weighted by the `loss_weights` coefficients.\n",
       "        If a list, it is expected to have a 1:1 mapping\n",
       "        to the model's outputs. If a tensor, it is expected to map\n",
       "        output names (strings) to scalar coefficients.\n",
       "    sample_weight_mode: If you need to do timestep-wise\n",
       "        sample weighting (2D weights), set this to `\"temporal\"`.\n",
       "        `None` defaults to sample-wise weights (1D).\n",
       "        If the model has multiple outputs, you can use a different\n",
       "        `sample_weight_mode` on each output by passing a\n",
       "        dictionary or a list of modes.\n",
       "    weighted_metrics: List of metrics to be evaluated and weighted\n",
       "        by sample_weight or class_weight during training and testing.\n",
       "    target_tensors: By default, Keras will create placeholders for the\n",
       "        model's target, which will be fed with the target data during\n",
       "        training. If instead you would like to use your own\n",
       "        target tensors (in turn, Keras will not expect external\n",
       "        Numpy data for these targets at training time), you\n",
       "        can specify them via the `target_tensors` argument. It can be\n",
       "        a single tensor (for a single-output model), a list of tensors,\n",
       "        or a dict mapping output names to target tensors.\n",
       "    **kwargs: When using the Theano/CNTK backends, these arguments\n",
       "        are passed into `K.function`.\n",
       "        When using the TensorFlow backend,\n",
       "        these arguments are passed into `tf.Session.run`.\n",
       "\n",
       "# Raises\n",
       "    ValueError: In case of invalid arguments for\n",
       "        `optimizer`, `loss`, `metrics` or `sample_weight_mode`.\n",
       "\u001b[0;31mFile:\u001b[0m      /media/anthony/USOPP/conda/IA/lib/python3.6/site-packages/keras/engine/training.py\n",
       "\u001b[0;31mType:\u001b[0m      method\n"
      ]
     },
     "metadata": {},
     "output_type": "display_data"
    }
   ],
   "source": [
    "model = VGG16()"
   ]
  },
  {
   "cell_type": "code",
   "execution_count": 36,
   "id": "57eb2cb7-e84f-46e8-90c2-b0035ec65c8a",
   "metadata": {},
   "outputs": [
    {
     "name": "stdout",
     "output_type": "stream",
     "text": [
      "669\n"
     ]
    }
   ],
   "source": [
    "model.compile(optimizer=SGD(lr=0.1, decay=1e-6, momentum=0.9, nesterov=True),\n",
    "              loss='categorical_crossentropy')\n",
    "predictions = model.predict(dog)\n",
    "print(np.argmax(predictions))"
   ]
  },
  {
   "cell_type": "code",
   "execution_count": null,
   "id": "30a6b305-68aa-40c0-8476-fcf0cac152b2",
   "metadata": {},
   "outputs": [],
   "source": []
  }
 ],
 "metadata": {
  "kernelspec": {
   "display_name": "Python 3 (ipykernel)",
   "language": "python",
   "name": "python3"
  },
  "language_info": {
   "codemirror_mode": {
    "name": "ipython",
    "version": 3
   },
   "file_extension": ".py",
   "mimetype": "text/x-python",
   "name": "python",
   "nbconvert_exporter": "python",
   "pygments_lexer": "ipython3",
   "version": "3.6.13"
  }
 },
 "nbformat": 4,
 "nbformat_minor": 5
}
