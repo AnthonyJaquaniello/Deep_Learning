{
 "cells": [
  {
   "cell_type": "markdown",
   "id": "5364f082-392e-4e49-a60c-37b1f5877c0e",
   "metadata": {},
   "source": [
    "<h1>Generative Adversarial Network</h1>"
   ]
  },
  {
   "cell_type": "markdown",
   "id": "698c06c2-f46a-4dba-b1ec-a58cc85094dc",
   "metadata": {},
   "source": [
    "Usefuls links:\n",
    "<ul>\n",
    "    <li><a href='https://www.quora.com/What-are-some-recent-and-potentially-upcoming-breakthroughs-in-deep-learning' target='_blank'>https://www.quora.com/What-are-some-recent-and-potentially-upcoming-breakthroughs-in-deep-learning</a></li>\n",
    "    <li><a href='https://arxiv.org/abs/1701.00160' target='_blank'>NIPS 2016 Tutorial: Generative Adversarial Networks</a></li>\n",
    "    <li><a href='https://arxiv.org/abs/1612.03242' traget='_blank'>StackGAN: Text to Photo-realistic Image Synthesis with Stacked Generative Adversarial Networks</a></li>\n",
    "    <li><a href='https://arxiv.org/abs/1511.06434v1' target='_blank'>Unsupervised Representation Learning with Deep Convolutional Generative Adversarial Networks</a></li>\n",
    "</ul>"
   ]
  },
  {
   "cell_type": "code",
   "execution_count": null,
   "id": "7cf7d6b2-601a-4b53-ae19-dd037c82a07f",
   "metadata": {},
   "outputs": [],
   "source": []
  }
 ],
 "metadata": {
  "kernelspec": {
   "display_name": "Python 3 (ipykernel)",
   "language": "python",
   "name": "python3"
  },
  "language_info": {
   "codemirror_mode": {
    "name": "ipython",
    "version": 3
   },
   "file_extension": ".py",
   "mimetype": "text/x-python",
   "name": "python",
   "nbconvert_exporter": "python",
   "pygments_lexer": "ipython3",
   "version": "3.6.13"
  }
 },
 "nbformat": 4,
 "nbformat_minor": 5
}
